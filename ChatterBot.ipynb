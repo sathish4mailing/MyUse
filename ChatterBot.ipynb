{
  "nbformat": 4,
  "nbformat_minor": 0,
  "metadata": {
    "colab": {
      "name": "Untitled0.ipynb",
      "provenance": [],
      "authorship_tag": "ABX9TyPXaJ/1fO1oOsJJ0B6jk91+"
    },
    "kernelspec": {
      "name": "python3",
      "display_name": "Python 3"
    }
  },
  "cells": [
    {
      "cell_type": "code",
      "metadata": {
        "colab_type": "code",
        "id": "C4HZx7Gndbrh",
        "colab": {
          "base_uri": "https://localhost:8080/",
          "height": 170
        },
        "outputId": "83194c42-9ae2-45df-ce74-9d7c24d045d6"
      },
      "source": [
        "import nltk\n",
        "from nltk.tokenize import sent_tokenize, word_tokenize\n",
        "from nltk.stem import WordNetLemmatizer\n",
        "from nltk.stem import PorterStemmer\n",
        "\n",
        "#nltk.download()\n",
        "text = \"My First NTL\"\n",
        "print(sent_tokenize(text))\n",
        "print(word_tokenize(text))\n",
        "wnl = WordNetLemmatizer()  \n",
        "print(wnl.lemmatize('corpora'))\n",
        "\n",
        "from chatterbot import ChatBot\n",
        "from chatterbot.trainers import ListTrainer\n",
        "\n",
        "your_Bot=ChatBot(name=\"YoBoys\", read_only=True, logic_adapters=['chatterbot.logic.MathematicalEvaluation','chatterbot.logic.BestMatch'])\n"
      ],
      "execution_count": 7,
      "outputs": [
        {
          "output_type": "stream",
          "text": [
            "['My First NTL']\n",
            "['My', 'First', 'NTL']\n",
            "corpus\n",
            "[nltk_data] Downloading package stopwords to /root/nltk_data...\n",
            "[nltk_data]   Package stopwords is already up-to-date!\n",
            "[nltk_data] Downloading package averaged_perceptron_tagger to\n",
            "[nltk_data]     /root/nltk_data...\n",
            "[nltk_data]   Package averaged_perceptron_tagger is already up-to-\n",
            "[nltk_data]       date!\n"
          ],
          "name": "stdout"
        }
      ]
    },
    {
      "cell_type": "code",
      "metadata": {
        "id": "rsXmLf1Oz1dc",
        "colab_type": "code",
        "colab": {}
      },
      "source": [
        "greetings = ['hi','hello','how are you','i am fine','how about you']"
      ],
      "execution_count": 8,
      "outputs": []
    },
    {
      "cell_type": "code",
      "metadata": {
        "id": "Ce1fwBcB0vfv",
        "colab_type": "code",
        "colab": {}
      },
      "source": [
        "formula1=['pythagorean theorem','a squad plus b squad equals c squad']"
      ],
      "execution_count": 9,
      "outputs": []
    },
    {
      "cell_type": "code",
      "metadata": {
        "id": "qXtTyyUR00eE",
        "colab_type": "code",
        "colab": {}
      },
      "source": [
        "formula2=['law of cosines','c^2=a^2+b^2-2ab']"
      ],
      "execution_count": 10,
      "outputs": []
    },
    {
      "cell_type": "code",
      "metadata": {
        "id": "kwRPKqls1JHU",
        "colab_type": "code",
        "colab": {
          "base_uri": "https://localhost:8080/",
          "height": 34
        },
        "outputId": "e0017102-2d3a-49a8-8796-23317bb52e93"
      },
      "source": [
        "train_yourbot=ListTrainer(your_Bot)\n",
        "print(train_yourbot)"
      ],
      "execution_count": 12,
      "outputs": [
        {
          "output_type": "stream",
          "text": [
            "<chatterbot.trainers.ListTrainer object at 0x7fbb3f855f98>\n"
          ],
          "name": "stdout"
        }
      ]
    },
    {
      "cell_type": "code",
      "metadata": {
        "id": "HLxKpU4N1heF",
        "colab_type": "code",
        "colab": {
          "base_uri": "https://localhost:8080/",
          "height": 68
        },
        "outputId": "acef3bb4-1501-402a-f292-9efeadc3fd4c"
      },
      "source": [
        "for x in (greetings,formula1,formula2):\n",
        "  train_yourbot.train(x) "
      ],
      "execution_count": 21,
      "outputs": [
        {
          "output_type": "stream",
          "text": [
            "List Trainer: [####################] 100%\n",
            "List Trainer: [####################] 100%\n",
            "List Trainer: [####################] 100%\n"
          ],
          "name": "stdout"
        }
      ]
    },
    {
      "cell_type": "code",
      "metadata": {
        "id": "vonD8A3W4KtQ",
        "colab_type": "code",
        "colab": {
          "base_uri": "https://localhost:8080/",
          "height": 34
        },
        "outputId": "42851325-7060-4ce6-d8eb-bdc3bacddec7"
      },
      "source": [
        "print(your_Bot.get_response('HIIIi'))"
      ],
      "execution_count": 34,
      "outputs": [
        {
          "output_type": "stream",
          "text": [
            "hello\n"
          ],
          "name": "stdout"
        }
      ]
    }
  ]
}